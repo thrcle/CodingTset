{
  "cells": [
    {
      "cell_type": "markdown",
      "metadata": {
        "id": "view-in-github",
        "colab_type": "text"
      },
      "source": [
        "<a href=\"https://colab.research.google.com/github/thrcle/CodingTset/blob/main/Greedy_11047.ipynb\" target=\"_parent\"><img src=\"https://colab.research.google.com/assets/colab-badge.svg\" alt=\"Open In Colab\"/></a>"
      ]
    },
    {
      "cell_type": "markdown",
      "source": [
        "https://www.acmicpc.net/problem/11047"
      ],
      "metadata": {
        "id": "BqO3vjms7yWZ"
      }
    },
    {
      "cell_type": "code",
      "execution_count": null,
      "metadata": {
        "id": "8XxNjDab0wjN"
      },
      "outputs": [],
      "source": [
        "# 제출용   \n",
        "import sys\n",
        "input=sys.stdin.readline\n",
        "\n",
        "N, K=map(int,input().split(' '))  # 동전의 종류 = N(1~10) 가치의 합=K(1~100,000,000)\n",
        "\n",
        "money=[int(input()) for _ in range(N)]\n",
        "money.sort(reverse=True)\n",
        "count=0                                         # 필요한 동전 개수\n",
        "for i in money:\n",
        "    if K>=i:\n",
        "        count+=K//i\n",
        "        K=K%i\n",
        "    else:\n",
        "        pass\n",
        "\n",
        "print(count)\n",
        "\n",
        "#Output:필요한 동전 개수의 최솟값"
      ]
    },
    {
      "cell_type": "code",
      "source": [
        "import sys\n",
        "input=sys.stdin.readline\n",
        "\n",
        "N, K=map(int,input().split(' '))                # 동전의 종류 = N(1~10) 가치의 합=K(1~100,000,000)\n",
        "\n",
        "money=[int(input()) for _ in range(N)]\n",
        "money.sort(reverse=True)\n",
        "count=0                                        \n",
        "\n",
        "for i in money:\n",
        "    if K>=i:\n",
        "        count+=K//i                             # Feedback : 몫만 취하는 경우 굳이 case를 나눌 필요 없음\n",
        "        K=K%i\n",
        "    else:\n",
        "        pass\n",
        "print(count)"
      ],
      "metadata": {
        "id": "geHL5ET98nWK"
      },
      "execution_count": null,
      "outputs": []
    },
    {
      "cell_type": "code",
      "source": [
        "# peer ver\n",
        "\n",
        "n,k=map(int, input.split())\n",
        "A=[int(input()) for _ in range(n)]\n",
        "count=0\n",
        "\n",
        "for i in A[::-1]:     # Feedback\n",
        "  count+=k//i         # Feedback\n",
        "  k=k%i               # Feedback \n",
        "\n",
        "print(count)"
      ],
      "metadata": {
        "id": "jBK2jMvo5q-i"
      },
      "execution_count": null,
      "outputs": []
    }
  ],
  "metadata": {
    "interpreter": {
      "hash": "dd4aa23f513b3b6286dd78cd227d41ee9c53160b5ae7bd6c2ca732516998cc9d"
    },
    "kernelspec": {
      "display_name": "Python 3.9.6 64-bit",
      "language": "python",
      "name": "python3"
    },
    "language_info": {
      "codemirror_mode": {
        "name": "ipython",
        "version": 3
      },
      "file_extension": ".py",
      "mimetype": "text/x-python",
      "name": "python",
      "nbconvert_exporter": "python",
      "pygments_lexer": "ipython3",
      "version": "3.9.6"
    },
    "orig_nbformat": 4,
    "colab": {
      "name": "Greedy_11047.ipynb",
      "provenance": [],
      "collapsed_sections": [],
      "include_colab_link": true
    }
  },
  "nbformat": 4,
  "nbformat_minor": 0
}