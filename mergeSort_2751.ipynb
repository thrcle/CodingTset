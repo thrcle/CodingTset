{
  "nbformat": 4,
  "nbformat_minor": 0,
  "metadata": {
    "colab": {
      "name": "mergeSort_2751.ipynb",
      "provenance": [],
      "collapsed_sections": [],
      "authorship_tag": "ABX9TyNVKINFPeQzliKbO+65kxhF",
      "include_colab_link": true
    },
    "kernelspec": {
      "name": "python3",
      "display_name": "Python 3"
    },
    "language_info": {
      "name": "python"
    }
  },
  "cells": [
    {
      "cell_type": "markdown",
      "metadata": {
        "id": "view-in-github",
        "colab_type": "text"
      },
      "source": [
        "<a href=\"https://colab.research.google.com/github/thrcle/CodingTset/blob/main/mergeSort_2751.ipynb\" target=\"_parent\"><img src=\"https://colab.research.google.com/assets/colab-badge.svg\" alt=\"Open In Colab\"/></a>"
      ]
    },
    {
      "cell_type": "code",
      "source": [
        "# import sys \n",
        "# input=sys.stdin.readline\n",
        "\n",
        "def merge_sort(arr):\n",
        "  if len(arr)<=1:return arr\n",
        "\n",
        "  center=len(arr)//2\n",
        "  left=merge_sort(arr[:center])\n",
        "  right=merge_sort(arr[center:])\n",
        "  return merge(left, right)\n",
        "\n",
        "def merge(left, right):\n",
        "  arr=list()\n",
        "  i,j=0,0\n",
        "  while (i<len(left) and j<len(right)):\n",
        "    if left[i]<right[j]:\n",
        "      arr.append(left[i])\n",
        "      i+=1\n",
        "    else:\n",
        "      arr.append(right[j])\n",
        "      j+=1\n",
        "  \n",
        "  if i==len(left) : arr+=right[j:len(right)]\n",
        "  if j==len(right) : arr+=left[i:len(left)]\n",
        "  return arr\n",
        "\n",
        "##########################################\n",
        "\n",
        "N=int(input())  # 정렬할 갯수 입력\n",
        "unsorted_arr=[] \n",
        "\n",
        "for i in range(N):                     # 미정렬된 숫자들을 unsorted_arr에 담음\n",
        "  num=int(input())\n",
        "  unsorted_arr.append(num)\n",
        "\n",
        "sorted_list=merge_sort(unsorted_arr)   # unsorted_arr에 담긴 대상들을  merge sort한 뒤 sorted_list에 담음\n",
        "for i in sorted_list:                  # sorted_list에 담긴 요소를 하나씩 출력\n",
        "  print(i)"
      ],
      "metadata": {
        "colab": {
          "base_uri": "https://localhost:8080/"
        },
        "id": "bwfgqXg9OsaX",
        "outputId": "66c3069e-2b17-4bfe-8542-25f052bc77d4"
      },
      "execution_count": null,
      "outputs": [
        {
          "output_type": "stream",
          "name": "stdout",
          "text": [
            "6\n",
            "6\n",
            "5\n",
            "4\n",
            "3\n",
            "2\n",
            "1\n",
            "1\n",
            "2\n",
            "3\n",
            "4\n",
            "5\n",
            "6\n"
          ]
        }
      ]
    }
  ]
}