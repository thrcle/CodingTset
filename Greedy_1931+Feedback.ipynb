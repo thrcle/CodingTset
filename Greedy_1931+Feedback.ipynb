{
  "cells": [
    {
      "cell_type": "markdown",
      "metadata": {
        "id": "view-in-github",
        "colab_type": "text"
      },
      "source": [
        "<a href=\"https://colab.research.google.com/github/thrcle/CodingTset/blob/main/Greedy_1931%2BFeedback.ipynb\" target=\"_parent\"><img src=\"https://colab.research.google.com/assets/colab-badge.svg\" alt=\"Open In Colab\"/></a>"
      ]
    },
    {
      "cell_type": "markdown",
      "source": [
        "https://www.acmicpc.net/problem/1931"
      ],
      "metadata": {
        "id": "NDNI1TdcNLC9"
      }
    },
    {
      "cell_type": "markdown",
      "source": [
        "그리디 알고리즘의 전략 : 선택기준의 우선순위(=maximize)를 정함 -> 동일한 기준으로 하나씩 선택 \n",
        "\n",
        "- Q. 가장 중요도가 높은 (=현재 상황에서 maximize할 수 있는) 기준이 무엇인가에 대한 아이디어가 중요\n",
        "- logic : 출발시간이 가장 높은 우선순위라면...\n",
        "(0,6) (1,4) (2,13), ... 순으로 정렬되고 이때 (0,6)이 선택되버림 -> 최적의 조합이 아님 \n",
        "=> 올바른 기준을 세웠다면 순차적인 우선순위에 의해 정렬 후 -> '선택'만 하면 됨\n",
        "\n",
        "\n",
        "Feedback:\n",
        "- 출발시각보다 도착시각의 우선순위가 더 높다는 아이디어를 생각하지 못했음\n",
        "- 현재값과 이전값을 <비교>하기 위해 인덱스 개념 생각.. 하지만 비교하는 대상의 인덱스가 둘다 순차적으로 이동하는 것이 아니라 한 값은 고정된 상태에서 다른 값의 인덱스가 증가하기 때문에 둘을 모두 인덱스를 사용하는 것은 부적절 -> 하나만\n",
        "- for문 돌릴 때 -> 리스트의 '길이' vs 리스트의 값 (목적 생각)\n",
        " "
      ],
      "metadata": {
        "id": "ecG7sKCje0q6"
      }
    },
    {
      "cell_type": "code",
      "source": [
        "# 제출 : solve\n",
        "\n",
        "import sys\n",
        "# input=sys.stdin.readline\n",
        "\n",
        "N=int(input())\n",
        "\n",
        "meetingTimeList=list(list(map(int,input().split(' '))) for _ in range(N))\n",
        "meetingTimeList=sorted(meetingTimeList, key=lambda x: (x[1],x[0]))\n",
        "\n",
        "standard=meetingTimeList[0]   \n",
        "count=1\n",
        "\n",
        "for i in range(1,len(meetingTimeList)):\n",
        "  # for j in range(i,len(meetingTimeList)): # i가 1부터 시작한 것이 아니기 때문에 굳이 j가 필요없음\n",
        "  if standard[1]<=meetingTimeList[i][0]:    # n+1번째 start가 n번째 end보다 같거나 큰 경우\n",
        "    count+=1                                # count+1\n",
        "    standard=meetingTimeList[i]             # [기준] 갱신\n",
        "\n",
        "print(count)"
      ],
      "metadata": {
        "id": "U8U7Ig9h0nLk",
        "colab": {
          "base_uri": "https://localhost:8080/"
        },
        "outputId": "db2d3e03-52b4-40c7-9cf8-2946803a5e3a"
      },
      "execution_count": 2,
      "outputs": [
        {
          "output_type": "stream",
          "name": "stdout",
          "text": [
            "11\n",
            "1 4\n",
            "3 5\n",
            "0 6\n",
            "5 7\n",
            "3 8\n",
            "5 9\n",
            "6 10\n",
            "8 11\n",
            "8 12\n",
            "2 13\n",
            "12 14\n",
            "i3 count2 standard[5, 7]\n",
            "i7 count3 standard[8, 11]\n",
            "i10 count4 standard[12, 14]\n"
          ]
        }
      ]
    },
    {
      "cell_type": "code",
      "source": [
        "# peer ver\n",
        "\n",
        "import sys \n",
        "N=int(sys.stdin.readline())\n",
        "A=[[0,0] for _ in range(N)]\n",
        "\n",
        "for i in range(N):\n",
        "  a,b=map(int, input().split())\n",
        "  A[i][0]=a\n",
        "  A[i][1]=b\n",
        "\n",
        "A.sort(key=lambda x:(x[1],x[0]))\n",
        "\n",
        "# 첫번째 : 제일 일찍 끝나는 회의\n",
        "end=A[0][1]\n",
        "count=1 \n",
        "\n",
        "# 두번째 : 회의 선택 : 시작 시각이 end보다 크고, 가장 빨리 끝나는 회의 선택\n",
        "for i in range(1,N):\n",
        "  if A[i][0]>=end:\n",
        "    count+=1\n",
        "    end=A[i][1]\n",
        "\n",
        "print(count)\n",
        "\n",
        "\n",
        "\n"
      ],
      "metadata": {
        "id": "UcwC8ngm-YpW"
      },
      "execution_count": null,
      "outputs": []
    }
  ],
  "metadata": {
    "interpreter": {
      "hash": "dd4aa23f513b3b6286dd78cd227d41ee9c53160b5ae7bd6c2ca732516998cc9d"
    },
    "kernelspec": {
      "display_name": "Python 3.9.6 64-bit",
      "language": "python",
      "name": "python3"
    },
    "language_info": {
      "codemirror_mode": {
        "name": "ipython",
        "version": 3
      },
      "file_extension": ".py",
      "mimetype": "text/x-python",
      "name": "python",
      "nbconvert_exporter": "python",
      "pygments_lexer": "ipython3",
      "version": "3.9.6"
    },
    "orig_nbformat": 4,
    "colab": {
      "name": "Greedy_1931+Feedback.ipynb",
      "provenance": [],
      "collapsed_sections": [],
      "include_colab_link": true
    }
  },
  "nbformat": 4,
  "nbformat_minor": 0
}