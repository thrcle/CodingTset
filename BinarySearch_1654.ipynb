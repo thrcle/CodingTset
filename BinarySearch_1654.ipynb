{
  "nbformat": 4,
  "nbformat_minor": 0,
  "metadata": {
    "colab": {
      "name": "BinarySearch_1654.ipynb",
      "provenance": [],
      "collapsed_sections": [],
      "authorship_tag": "ABX9TyO/hg/2FI6SgFpsu05P1pT5",
      "include_colab_link": true
    },
    "kernelspec": {
      "name": "python3",
      "display_name": "Python 3"
    },
    "language_info": {
      "name": "python"
    }
  },
  "cells": [
    {
      "cell_type": "markdown",
      "metadata": {
        "id": "view-in-github",
        "colab_type": "text"
      },
      "source": [
        "<a href=\"https://colab.research.google.com/github/thrcle/CodingTset/blob/main/BinarySearch_1654.ipynb\" target=\"_parent\"><img src=\"https://colab.research.google.com/assets/colab-badge.svg\" alt=\"Open In Colab\"/></a>"
      ]
    },
    {
      "cell_type": "markdown",
      "source": [
        "### 문제정의 확실하게 하기, 코딩하기 전에 로직 구상하기, 단계별로 생각해보기 = 주석 먼저 달기\n",
        "### 반복문안에 들어가야할 변수인지 판단 : 값이 계속 갱신되는가?"
      ],
      "metadata": {
        "id": "kSZiFOOLUmXH"
      }
    },
    {
      "cell_type": "code",
      "source": [
        "# parametric Search : 원하는 조건을 만족하는 가장 알맞은 값을 찾는 문제\n",
        "# 최적화 문제를 결정 문제로 바꿔 해결하는 기법\n",
        "# 나올 수 있는 랜선의 길이의 경우의 수 : 2^31 -1 = 대략 20억개\n",
        "# 이진탐색을 재귀적으로 구현하지 않고 반복문을 이용해 구현하면 더 간결하게 문제를 풀 수 있음\n",
        "\n",
        "#input_num, need_num = int(input().split())\n",
        "#import numpy\n",
        "import sys\n",
        "\n",
        "input_num, need_num = map(int, input().split(' '))\n",
        "\n",
        "have_num= [int(sys.stdin.readline()) for _ in range(input_num)]\n",
        "\n",
        "min=1\n",
        "max=max(have_num)        # Q. min이 안되는 이유?\n",
        "\n",
        "while min<=max:\n",
        "    mid=(min+max)//2\n",
        "    quotient=0\n",
        "  # 입력한 숫자들을 나눈 몫을 더해 몫의 합이 입력한 랜선의 갯수와 동일할 때 = 랜선의 길이\n",
        "    for num in have_num:\n",
        "        quotient+=num//mid   # need_num = 필요한 랜선의 갯수\n",
        "    if quotient >= need_num:  # 랜선을 자른 수가 만들어야 될 랜선의 수보다 클 경우( mid값이 작다는 뜻 )\n",
        "        min = mid + 1  # 랜선의 최소 길이를 중간값보다 1크게 설정\n",
        "    else:  # 랜선을 자른 수가 만들어야될 랜선의 수보다 작을 경우 ( mid값이 크다는 뜻 )\n",
        "        max = mid - 1  # 랜선의 최대 길이를 중간값보다 1작게 설정\n",
        "\n",
        "print(max)"
      ],
      "metadata": {
        "id": "A184sVVYSadS"
      },
      "execution_count": null,
      "outputs": []
    },
    {
      "cell_type": "code",
      "source": [
        "# 1)값 입력 받기\n",
        "\n",
        "import numpy as np\n",
        "k, n= map(int, input().split(' '))  # k = 가지고 있는 랜선의 수, n=필요한 랜선의 수\n",
        "k_lan=[ int(input()) for _ in range(k)]\n",
        "\n",
        "# 최대 랜선의 길이(MaxLen)를 구하는 것이 목표=> 랜선의 최대 길이를 이진탐색을 사용하여 구한다.(mid는 MaxLen의 후보)\n",
        "\n",
        "min_len=1\n",
        "max_len=np.max(k_lan)  # min을 하지 않은 이유는 잘리는 랜선의 길이가 min(k_lan)보다 클 수 있기 때문\n",
        "\n",
        "\n",
        "while min_len <= max_len:  #  탐색할 길이가 남아 있으면 반복\n",
        "  mid=(min_len+max_len)//2 # 소수점을 남기지 않는다. 랜선의 길이는 정수이기 때문\n",
        "                           # min값과 max값은 갱신됨. mid는 min과 max의 연산으로 이루어져있으므로 반복문 안으로 들어가야 하는 변수\n",
        "  quetient=0\n",
        "  # 조건에 만족하는지 확인\n",
        "  for i in k_lan:\n",
        "    quetient+=i//mid\n",
        "    \n",
        "  # max len을 찾는 것이므로\n",
        "  # if quetient==n:\n",
        "  #   print(mid)\n",
        "    #break\n",
        "  if quetient>=n:     # 몫이 기준보다 큰 경우 = 작게 잘린 경우  -> 숫자가 더 커져야함   -> 탐색의 범위: (mid+1)~max\n",
        "    min_len=mid+1          \n",
        "  elif quetient<n:     # 몫이 기준보다 작은 경우 = 크게 잘린 경우-> 숫자가 더 작아져야함 -> 탐색의 범위: 1~(mid-1)\n",
        "    max_len=mid-1\n",
        "\n",
        "print(max_len)\n"
      ],
      "metadata": {
        "id": "GUyilPHp4ljh",
        "colab": {
          "base_uri": "https://localhost:8080/"
        },
        "outputId": "8b08de14-a5e9-40c9-b07b-ba4f17db87ad"
      },
      "execution_count": 17,
      "outputs": [
        {
          "name": "stdout",
          "output_type": "stream",
          "text": [
            "4 11\n",
            "802\n",
            "743\n",
            "457\n",
            "539\n"
          ]
        }
      ]
    }
  ]
}