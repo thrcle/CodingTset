{
  "nbformat": 4,
  "nbformat_minor": 0,
  "metadata": {
    "colab": {
      "name": "sort_10825.ipynb",
      "provenance": [],
      "collapsed_sections": [],
      "authorship_tag": "ABX9TyP0T3lOOE+Wgu8g4BvxRBZm",
      "include_colab_link": true
    },
    "kernelspec": {
      "name": "python3",
      "display_name": "Python 3"
    },
    "language_info": {
      "name": "python"
    }
  },
  "cells": [
    {
      "cell_type": "markdown",
      "metadata": {
        "id": "view-in-github",
        "colab_type": "text"
      },
      "source": [
        "<a href=\"https://colab.research.google.com/github/thrcle/CodingTset/blob/main/sort_10825.ipynb\" target=\"_parent\"><img src=\"https://colab.research.google.com/assets/colab-badge.svg\" alt=\"Open In Colab\"/></a>"
      ]
    },
    {
      "cell_type": "code",
      "source": [
        "# sys.stdin.readline()\n",
        "# sys = 파이썬 인터프리터가 제공하는 변수와 함수를 직접 제어할 수 있게 해주는 모듈"
      ],
      "metadata": {
        "id": "hSr9fPj0Wh-E"
      },
      "execution_count": 6,
      "outputs": []
    },
    {
      "cell_type": "code",
      "execution_count": 5,
      "metadata": {
        "colab": {
          "base_uri": "https://localhost:8080/"
        },
        "id": "3x8xZWF6OHw_",
        "outputId": "0ed40371-f0ff-417d-84f0-3c89dd352932"
      },
      "outputs": [
        {
          "output_type": "stream",
          "name": "stdout",
          "text": [
            "3\n",
            "Wonseob 70 70 90\n",
            "Soong 50 60 90\n",
            "Sanghyun 70 70 80\n",
            "Wonseob\n",
            "Sanghyun\n",
            "Soong\n"
          ]
        }
      ],
      "source": [
        "import sys \n",
        "input=sys.stdin.readline\n",
        "\n",
        "N=int(input())\n",
        "students=[]\n",
        "for i in range(N):\n",
        "  student=input().split()\n",
        "  student=[student[0]]+[int(i) for i in student[1:]]\n",
        "  students.append(student)\n",
        "\n",
        "students=sorted(students, key=lambda x:(-x[1],x[2],-x[3],x[0]))\n",
        "\n",
        "for i in range(N):\n",
        "  print(students[i][0])\n",
        "\n",
        "#students\n"
      ]
    },
    {
      "cell_type": "markdown",
      "source": [
        "과정"
      ],
      "metadata": {
        "id": "gww7fwFrbXqR"
      }
    },
    {
      "cell_type": "code",
      "source": [
        "arr = ['abc', 'bac', 'bca']\n",
        "sorted(arr, key=lambda x : x[0])"
      ],
      "metadata": {
        "colab": {
          "base_uri": "https://localhost:8080/"
        },
        "id": "4O6Hu_f2Rw8x",
        "outputId": "627e465d-c1be-404c-80b3-c9d2e92dd683"
      },
      "execution_count": 5,
      "outputs": [
        {
          "output_type": "execute_result",
          "data": {
            "text/plain": [
              "['abc', 'bac', 'bca']"
            ]
          },
          "metadata": {},
          "execution_count": 5
        }
      ]
    },
    {
      "cell_type": "code",
      "source": [
        "arr=[['김', 1, 2], ['오', 3, 5]]\n",
        "sorted(arr, key=lambda x:(-x[1], x[2]))"
      ],
      "metadata": {
        "colab": {
          "base_uri": "https://localhost:8080/"
        },
        "id": "5r43kq96R0f2",
        "outputId": "bd4db20a-801a-4550-c34d-0dda632ab77e"
      },
      "execution_count": 11,
      "outputs": [
        {
          "output_type": "execute_result",
          "data": {
            "text/plain": [
              "[['오', 3, 5], ['김', 1, 2]]"
            ]
          },
          "metadata": {},
          "execution_count": 11
        }
      ]
    },
    {
      "cell_type": "code",
      "source": [
        "li=['김', '1', '2']\n",
        "li=[li[0]]+[int(i) for i in li[1:]]\n",
        "li"
      ],
      "metadata": {
        "colab": {
          "base_uri": "https://localhost:8080/"
        },
        "id": "Fq1HhiJbSz8Y",
        "outputId": "26da1ab6-98e3-47a2-be2f-7fe480617383"
      },
      "execution_count": 29,
      "outputs": [
        {
          "output_type": "execute_result",
          "data": {
            "text/plain": [
              "['김', 1, 2]"
            ]
          },
          "metadata": {},
          "execution_count": 29
        }
      ]
    }
  ]
}